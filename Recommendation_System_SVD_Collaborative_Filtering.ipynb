{
 "cells": [
  {
   "cell_type": "code",
   "execution_count": 1,
   "id": "ac79b39e",
   "metadata": {},
   "outputs": [],
   "source": [
    "# Step 1: Import Libraries\n",
    "import pandas as pd\n",
    "from surprise import SVD, Dataset, Reader\n",
    "from surprise.model_selection import cross_validate, train_test_split\n",
    "from surprise.accuracy import rmse\n",
    "from collections import defaultdict"
   ]
  },
  {
   "cell_type": "code",
   "execution_count": 2,
   "id": "8f85b329",
   "metadata": {},
   "outputs": [],
   "source": [
    "# Step 2: Load Sample MovieLens Data\n",
    "from surprise import Dataset\n",
    "data = Dataset.load_builtin('ml-100k')  # 100k ratings dataset\n",
    "trainset, testset = train_test_split(data, test_size=0.25)"
   ]
  },
  {
   "cell_type": "code",
   "execution_count": 3,
   "id": "fa038177",
   "metadata": {},
   "outputs": [],
   "source": [
    "# Step 3: Use SVD for Matrix Factorization\n",
    "model = SVD()\n",
    "model.fit(trainset)\n",
    "predictions = model.test(testset)"
   ]
  },
  {
   "cell_type": "code",
   "execution_count": 4,
   "id": "e25b9656",
   "metadata": {},
   "outputs": [
    {
     "name": "stdout",
     "output_type": "stream",
     "text": [
      "Root Mean Squared Error (RMSE):\n",
      "RMSE: 0.9351\n"
     ]
    },
    {
     "data": {
      "text/plain": [
       "0.9350844612316551"
      ]
     },
     "execution_count": 4,
     "metadata": {},
     "output_type": "execute_result"
    }
   ],
   "source": [
    "# Step 4: Evaluation Metrics\n",
    "print(\"Root Mean Squared Error (RMSE):\")\n",
    "rmse(predictions)"
   ]
  },
  {
   "cell_type": "code",
   "execution_count": 5,
   "id": "f0e5de2d",
   "metadata": {},
   "outputs": [],
   "source": [
    "# Step 5: Get Top-N Recommendations for each user\n",
    "def get_top_n(predictions, n=5):\n",
    "    top_n = defaultdict(list)\n",
    "    for uid, iid, true_r, est, _ in predictions:\n",
    "        top_n[uid].append((iid, est))\n",
    "    for uid, user_ratings in top_n.items():\n",
    "        user_ratings.sort(key=lambda x: x[1], reverse=True)\n",
    "        top_n[uid] = user_ratings[:n]\n",
    "    return top_n\n",
    "\n",
    "top_n = get_top_n(predictions, n=5)"
   ]
  },
  {
   "cell_type": "code",
   "execution_count": 6,
   "id": "03d1f312",
   "metadata": {},
   "outputs": [
    {
     "name": "stdout",
     "output_type": "stream",
     "text": [
      "\n",
      "Top 5 Recommendations for User 854:\n",
      "Movie ID: 357 | Predicted Rating: 4.11\n",
      "Movie ID: 50 | Predicted Rating: 4.01\n",
      "Movie ID: 511 | Predicted Rating: 4.01\n",
      "Movie ID: 514 | Predicted Rating: 3.93\n",
      "Movie ID: 269 | Predicted Rating: 3.85\n"
     ]
    }
   ],
   "source": [
    "# Step 6: Show Recommendations for a Sample User\n",
    "sample_user = list(top_n.keys())[0]\n",
    "print(f\"\\nTop 5 Recommendations for User {sample_user}:\")\n",
    "for movie_id, predicted_rating in top_n[sample_user]:\n",
    "    print(f\"Movie ID: {movie_id} | Predicted Rating: {predicted_rating:.2f}\")"
   ]
  }
 ],
 "metadata": {
  "kernelspec": {
   "display_name": "base",
   "language": "python",
   "name": "python3"
  },
  "language_info": {
   "codemirror_mode": {
    "name": "ipython",
    "version": 3
   },
   "file_extension": ".py",
   "mimetype": "text/x-python",
   "name": "python",
   "nbconvert_exporter": "python",
   "pygments_lexer": "ipython3",
   "version": "3.12.3"
  }
 },
 "nbformat": 4,
 "nbformat_minor": 5
}
